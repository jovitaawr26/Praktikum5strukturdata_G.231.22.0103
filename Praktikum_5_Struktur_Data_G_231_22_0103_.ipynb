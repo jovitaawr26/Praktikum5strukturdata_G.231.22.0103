{
  "nbformat": 4,
  "nbformat_minor": 0,
  "metadata": {
    "colab": {
      "provenance": []
    },
    "kernelspec": {
      "name": "python3",
      "display_name": "Python 3"
    },
    "language_info": {
      "name": "python"
    }
  },
  "cells": [
    {
      "cell_type": "code",
      "source": [
        "# Program Python untuk implementasi Bubble Sort\n",
        "def bubbleSort(arr):\n",
        " n = len(arr)\n",
        " swapped = False\n",
        "\n",
        " for i in range(n-1):\n",
        "  for j in range(0, n-i-1):\n",
        "    if arr[j] > arr[j + 1]:\n",
        "      swapped = True\n",
        "      arr[j], arr[j + 1] = arr[j + 1], arr[j]\n",
        "\n",
        "\n",
        "arr = [64, 34, 25, 12, 22, 11, 90]\n",
        "bubbleSort(arr)\n",
        "\n",
        "print(\"Sorted array is:\")\n",
        "for i in range(len(arr)):\n",
        "  print(\"% d\" % arr[i], end=\" \")\n"
      ],
      "metadata": {
        "colab": {
          "base_uri": "https://localhost:8080/"
        },
        "id": "9_D9bEtMuZ4E",
        "outputId": "f11be8d6-006f-4678-cba2-f226a16d7fa8"
      },
      "execution_count": null,
      "outputs": [
        {
          "output_type": "stream",
          "name": "stdout",
          "text": [
            "Sorted array is:\n",
            " 11  12  22  25  34  64  90 "
          ]
        }
      ]
    },
    {
      "cell_type": "markdown",
      "source": [
        "TUGAS! CODING YG DI MODIFIKASI"
      ],
      "metadata": {
        "id": "vFUJwAxIVOHM"
      }
    },
    {
      "cell_type": "code",
      "source": [
        "def myBubbleSort(arr):\n",
        "    n = len(arr)\n",
        "    iterations = 0  # Add a variable to track the number of iterations\n",
        "\n",
        "    for i in range(n - 1):\n",
        "        for j in range(0, n - i - 1):\n",
        "            if arr[j] > arr[j + 1]:\n",
        "                arr[j], arr[j + 1] = arr[j + 1], arr[j]\n",
        "        iterations += 1  # Increment the iterations after each pass\n",
        "\n",
        "    return iterations  # Return the total number of iterations\n",
        "\n",
        "\n",
        "arr = [64, 34, 25, 12, 22, 11, 90]\n",
        "total_iterations = myBubbleSort(arr)\n",
        "\n",
        "print(\"Sorted array is:\")\n",
        "for i in range(len(arr)):\n",
        "    print(\"% d\" % arr[i], end=\" \")\n",
        "\n",
        "print(\"\\nTotal iterations:\", total_iterations)\n"
      ],
      "metadata": {
        "colab": {
          "base_uri": "https://localhost:8080/"
        },
        "id": "fbF6jCGPVXEn",
        "outputId": "9ad17727-5d7d-4fec-8a2e-e193e4160238"
      },
      "execution_count": 1,
      "outputs": [
        {
          "output_type": "stream",
          "name": "stdout",
          "text": [
            "Sorted array is:\n",
            " 11  12  22  25  34  64  90 \n",
            "Total iterations: 6\n"
          ]
        }
      ]
    }
  ]
}